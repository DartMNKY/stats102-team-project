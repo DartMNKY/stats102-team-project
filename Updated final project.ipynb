{
 "cells": [
  {
   "cell_type": "markdown",
   "metadata": {},
   "source": [
    "# STATS 102 Final Project\n",
    "Team members: Anar, Angarag, Temuulen\n",
    "## Predicting whether a person has sleep disorder or not through logistic regression"
   ]
  },
  {
   "cell_type": "markdown",
   "metadata": {},
   "source": [
    "Data info:\n",
    "- Gender: The gender of the person (Male/Female).\n",
    "- Age: The age of the person in years.\n",
    "- Occupation: The occupation or profession of the person.\n",
    "- Sleep Duration (hours): The number of hours the person sleeps per day.\n",
    "- Quality of Sleep (scale: 1-10): A subjective rating of the quality of sleep, ranging from 1 to 10.\n",
    "- Physical Activity Level (minutes/day): The number of minutes the person engages in physical activity daily.\n",
    "- Stress Level (scale: 1-10): A subjective rating of the stress level experienced by the person, ranging from 1 to 10.\n",
    "- BMI Category: The BMI category of the person (e.g., Underweight, Normal, Overweight).\n",
    "- Heart Rate (bpm): The resting heart rate of the person in beats per minute.\n",
    "- Sleep Disorder: The presence or absence of a sleep disorder in the person (None, Insomnia, Sleep Apnea)."
   ]
  },
  {
   "cell_type": "markdown",
   "metadata": {},
   "source": [
    "Initial library imports"
   ]
  },
  {
   "cell_type": "code",
   "execution_count": 36,
   "metadata": {},
   "outputs": [],
   "source": [
    "import pandas as pd\n",
    "import numpy as np\n",
    "import seaborn as sns \n",
    "import matplotlib.pyplot as plt \n",
    "from sklearn.model_selection import train_test_split"
   ]
  },
  {
   "cell_type": "markdown",
   "metadata": {},
   "source": [
    "Loading our data. \n",
    "\n",
    "In the \"BMI Category\" column, there were \"normal\" bmi and \"normal weight\" bmi. Thus, we will be changing the latter to \"normal\"."
   ]
  },
  {
   "cell_type": "code",
   "execution_count": 37,
   "metadata": {},
   "outputs": [],
   "source": [
    "dt = pd.read_csv('Sleep_health_and_lifestyle_dataset.csv')\n",
    "dt = dt.assign(BMI_Category=lambda x: x['BMI Category'].map({'Obese': \"Obese\", 'Normal': 'Normal', 'Overweight': 'Overweight', 'Normal Weight': 'Normal'}))\n",
    "dt.drop(columns = \"BMI Category\", inplace= True)"
   ]
  },
  {
   "cell_type": "code",
   "execution_count": 38,
   "metadata": {},
   "outputs": [
    {
     "data": {
      "text/plain": [
       "Index(['Person ID', 'Gender', 'Age', 'Occupation', 'Sleep Duration',\n",
       "       'Quality of Sleep', 'Physical Activity Level', 'Stress Level',\n",
       "       'Blood Pressure', 'Heart Rate', 'Daily Steps', 'Sleep Disorder',\n",
       "       'BMI_Category'],\n",
       "      dtype='object')"
      ]
     },
     "execution_count": 38,
     "metadata": {},
     "output_type": "execute_result"
    }
   ],
   "source": [
    "dt.columns"
   ]
  },
  {
   "cell_type": "code",
   "execution_count": 39,
   "metadata": {},
   "outputs": [
    {
     "data": {
      "text/html": [
       "<div>\n",
       "<style scoped>\n",
       "    .dataframe tbody tr th:only-of-type {\n",
       "        vertical-align: middle;\n",
       "    }\n",
       "\n",
       "    .dataframe tbody tr th {\n",
       "        vertical-align: top;\n",
       "    }\n",
       "\n",
       "    .dataframe thead th {\n",
       "        text-align: right;\n",
       "    }\n",
       "</style>\n",
       "<table border=\"1\" class=\"dataframe\">\n",
       "  <thead>\n",
       "    <tr style=\"text-align: right;\">\n",
       "      <th></th>\n",
       "      <th>Person ID</th>\n",
       "      <th>Gender</th>\n",
       "      <th>Age</th>\n",
       "      <th>Occupation</th>\n",
       "      <th>Sleep Duration</th>\n",
       "      <th>Quality of Sleep</th>\n",
       "      <th>Physical Activity Level</th>\n",
       "      <th>Stress Level</th>\n",
       "      <th>Blood Pressure</th>\n",
       "      <th>Heart Rate</th>\n",
       "      <th>Daily Steps</th>\n",
       "      <th>Sleep Disorder</th>\n",
       "      <th>BMI_Category</th>\n",
       "    </tr>\n",
       "  </thead>\n",
       "  <tbody>\n",
       "    <tr>\n",
       "      <th>0</th>\n",
       "      <td>1</td>\n",
       "      <td>Male</td>\n",
       "      <td>27</td>\n",
       "      <td>Software Engineer</td>\n",
       "      <td>6.1</td>\n",
       "      <td>6</td>\n",
       "      <td>42</td>\n",
       "      <td>6</td>\n",
       "      <td>126/83</td>\n",
       "      <td>77</td>\n",
       "      <td>4200</td>\n",
       "      <td>None</td>\n",
       "      <td>Overweight</td>\n",
       "    </tr>\n",
       "    <tr>\n",
       "      <th>1</th>\n",
       "      <td>2</td>\n",
       "      <td>Male</td>\n",
       "      <td>28</td>\n",
       "      <td>Doctor</td>\n",
       "      <td>6.2</td>\n",
       "      <td>6</td>\n",
       "      <td>60</td>\n",
       "      <td>8</td>\n",
       "      <td>125/80</td>\n",
       "      <td>75</td>\n",
       "      <td>10000</td>\n",
       "      <td>None</td>\n",
       "      <td>Normal</td>\n",
       "    </tr>\n",
       "    <tr>\n",
       "      <th>2</th>\n",
       "      <td>3</td>\n",
       "      <td>Male</td>\n",
       "      <td>28</td>\n",
       "      <td>Doctor</td>\n",
       "      <td>6.2</td>\n",
       "      <td>6</td>\n",
       "      <td>60</td>\n",
       "      <td>8</td>\n",
       "      <td>125/80</td>\n",
       "      <td>75</td>\n",
       "      <td>10000</td>\n",
       "      <td>None</td>\n",
       "      <td>Normal</td>\n",
       "    </tr>\n",
       "    <tr>\n",
       "      <th>3</th>\n",
       "      <td>4</td>\n",
       "      <td>Male</td>\n",
       "      <td>28</td>\n",
       "      <td>Sales Representative</td>\n",
       "      <td>5.9</td>\n",
       "      <td>4</td>\n",
       "      <td>30</td>\n",
       "      <td>8</td>\n",
       "      <td>140/90</td>\n",
       "      <td>85</td>\n",
       "      <td>3000</td>\n",
       "      <td>Sleep Apnea</td>\n",
       "      <td>Obese</td>\n",
       "    </tr>\n",
       "    <tr>\n",
       "      <th>4</th>\n",
       "      <td>5</td>\n",
       "      <td>Male</td>\n",
       "      <td>28</td>\n",
       "      <td>Sales Representative</td>\n",
       "      <td>5.9</td>\n",
       "      <td>4</td>\n",
       "      <td>30</td>\n",
       "      <td>8</td>\n",
       "      <td>140/90</td>\n",
       "      <td>85</td>\n",
       "      <td>3000</td>\n",
       "      <td>Sleep Apnea</td>\n",
       "      <td>Obese</td>\n",
       "    </tr>\n",
       "    <tr>\n",
       "      <th>5</th>\n",
       "      <td>6</td>\n",
       "      <td>Male</td>\n",
       "      <td>28</td>\n",
       "      <td>Software Engineer</td>\n",
       "      <td>5.9</td>\n",
       "      <td>4</td>\n",
       "      <td>30</td>\n",
       "      <td>8</td>\n",
       "      <td>140/90</td>\n",
       "      <td>85</td>\n",
       "      <td>3000</td>\n",
       "      <td>Insomnia</td>\n",
       "      <td>Obese</td>\n",
       "    </tr>\n",
       "    <tr>\n",
       "      <th>6</th>\n",
       "      <td>7</td>\n",
       "      <td>Male</td>\n",
       "      <td>29</td>\n",
       "      <td>Teacher</td>\n",
       "      <td>6.3</td>\n",
       "      <td>6</td>\n",
       "      <td>40</td>\n",
       "      <td>7</td>\n",
       "      <td>140/90</td>\n",
       "      <td>82</td>\n",
       "      <td>3500</td>\n",
       "      <td>Insomnia</td>\n",
       "      <td>Obese</td>\n",
       "    </tr>\n",
       "    <tr>\n",
       "      <th>7</th>\n",
       "      <td>8</td>\n",
       "      <td>Male</td>\n",
       "      <td>29</td>\n",
       "      <td>Doctor</td>\n",
       "      <td>7.8</td>\n",
       "      <td>7</td>\n",
       "      <td>75</td>\n",
       "      <td>6</td>\n",
       "      <td>120/80</td>\n",
       "      <td>70</td>\n",
       "      <td>8000</td>\n",
       "      <td>None</td>\n",
       "      <td>Normal</td>\n",
       "    </tr>\n",
       "    <tr>\n",
       "      <th>8</th>\n",
       "      <td>9</td>\n",
       "      <td>Male</td>\n",
       "      <td>29</td>\n",
       "      <td>Doctor</td>\n",
       "      <td>7.8</td>\n",
       "      <td>7</td>\n",
       "      <td>75</td>\n",
       "      <td>6</td>\n",
       "      <td>120/80</td>\n",
       "      <td>70</td>\n",
       "      <td>8000</td>\n",
       "      <td>None</td>\n",
       "      <td>Normal</td>\n",
       "    </tr>\n",
       "    <tr>\n",
       "      <th>9</th>\n",
       "      <td>10</td>\n",
       "      <td>Male</td>\n",
       "      <td>29</td>\n",
       "      <td>Doctor</td>\n",
       "      <td>7.8</td>\n",
       "      <td>7</td>\n",
       "      <td>75</td>\n",
       "      <td>6</td>\n",
       "      <td>120/80</td>\n",
       "      <td>70</td>\n",
       "      <td>8000</td>\n",
       "      <td>None</td>\n",
       "      <td>Normal</td>\n",
       "    </tr>\n",
       "  </tbody>\n",
       "</table>\n",
       "</div>"
      ],
      "text/plain": [
       "   Person ID Gender  Age            Occupation  Sleep Duration  \\\n",
       "0          1   Male   27     Software Engineer             6.1   \n",
       "1          2   Male   28                Doctor             6.2   \n",
       "2          3   Male   28                Doctor             6.2   \n",
       "3          4   Male   28  Sales Representative             5.9   \n",
       "4          5   Male   28  Sales Representative             5.9   \n",
       "5          6   Male   28     Software Engineer             5.9   \n",
       "6          7   Male   29               Teacher             6.3   \n",
       "7          8   Male   29                Doctor             7.8   \n",
       "8          9   Male   29                Doctor             7.8   \n",
       "9         10   Male   29                Doctor             7.8   \n",
       "\n",
       "   Quality of Sleep  Physical Activity Level  Stress Level Blood Pressure  \\\n",
       "0                 6                       42             6         126/83   \n",
       "1                 6                       60             8         125/80   \n",
       "2                 6                       60             8         125/80   \n",
       "3                 4                       30             8         140/90   \n",
       "4                 4                       30             8         140/90   \n",
       "5                 4                       30             8         140/90   \n",
       "6                 6                       40             7         140/90   \n",
       "7                 7                       75             6         120/80   \n",
       "8                 7                       75             6         120/80   \n",
       "9                 7                       75             6         120/80   \n",
       "\n",
       "   Heart Rate  Daily Steps Sleep Disorder BMI_Category  \n",
       "0          77         4200           None   Overweight  \n",
       "1          75        10000           None       Normal  \n",
       "2          75        10000           None       Normal  \n",
       "3          85         3000    Sleep Apnea        Obese  \n",
       "4          85         3000    Sleep Apnea        Obese  \n",
       "5          85         3000       Insomnia        Obese  \n",
       "6          82         3500       Insomnia        Obese  \n",
       "7          70         8000           None       Normal  \n",
       "8          70         8000           None       Normal  \n",
       "9          70         8000           None       Normal  "
      ]
     },
     "execution_count": 39,
     "metadata": {},
     "output_type": "execute_result"
    }
   ],
   "source": [
    "dt.head(10)"
   ]
  },
  {
   "cell_type": "code",
   "execution_count": 40,
   "metadata": {},
   "outputs": [
    {
     "data": {
      "text/html": [
       "<div>\n",
       "<style scoped>\n",
       "    .dataframe tbody tr th:only-of-type {\n",
       "        vertical-align: middle;\n",
       "    }\n",
       "\n",
       "    .dataframe tbody tr th {\n",
       "        vertical-align: top;\n",
       "    }\n",
       "\n",
       "    .dataframe thead th {\n",
       "        text-align: right;\n",
       "    }\n",
       "</style>\n",
       "<table border=\"1\" class=\"dataframe\">\n",
       "  <thead>\n",
       "    <tr style=\"text-align: right;\">\n",
       "      <th></th>\n",
       "      <th>Person ID</th>\n",
       "      <th>Age</th>\n",
       "      <th>Sleep Duration</th>\n",
       "      <th>Quality of Sleep</th>\n",
       "      <th>Physical Activity Level</th>\n",
       "      <th>Stress Level</th>\n",
       "      <th>Heart Rate</th>\n",
       "      <th>Daily Steps</th>\n",
       "    </tr>\n",
       "  </thead>\n",
       "  <tbody>\n",
       "    <tr>\n",
       "      <th>count</th>\n",
       "      <td>374.00</td>\n",
       "      <td>374.00</td>\n",
       "      <td>374.00</td>\n",
       "      <td>374.00</td>\n",
       "      <td>374.00</td>\n",
       "      <td>374.00</td>\n",
       "      <td>374.00</td>\n",
       "      <td>374.00</td>\n",
       "    </tr>\n",
       "    <tr>\n",
       "      <th>mean</th>\n",
       "      <td>187.50</td>\n",
       "      <td>42.18</td>\n",
       "      <td>7.13</td>\n",
       "      <td>7.31</td>\n",
       "      <td>59.17</td>\n",
       "      <td>5.39</td>\n",
       "      <td>70.17</td>\n",
       "      <td>6816.84</td>\n",
       "    </tr>\n",
       "    <tr>\n",
       "      <th>std</th>\n",
       "      <td>108.11</td>\n",
       "      <td>8.67</td>\n",
       "      <td>0.80</td>\n",
       "      <td>1.20</td>\n",
       "      <td>20.83</td>\n",
       "      <td>1.77</td>\n",
       "      <td>4.14</td>\n",
       "      <td>1617.92</td>\n",
       "    </tr>\n",
       "    <tr>\n",
       "      <th>min</th>\n",
       "      <td>1.00</td>\n",
       "      <td>27.00</td>\n",
       "      <td>5.80</td>\n",
       "      <td>4.00</td>\n",
       "      <td>30.00</td>\n",
       "      <td>3.00</td>\n",
       "      <td>65.00</td>\n",
       "      <td>3000.00</td>\n",
       "    </tr>\n",
       "    <tr>\n",
       "      <th>25%</th>\n",
       "      <td>94.25</td>\n",
       "      <td>35.25</td>\n",
       "      <td>6.40</td>\n",
       "      <td>6.00</td>\n",
       "      <td>45.00</td>\n",
       "      <td>4.00</td>\n",
       "      <td>68.00</td>\n",
       "      <td>5600.00</td>\n",
       "    </tr>\n",
       "    <tr>\n",
       "      <th>50%</th>\n",
       "      <td>187.50</td>\n",
       "      <td>43.00</td>\n",
       "      <td>7.20</td>\n",
       "      <td>7.00</td>\n",
       "      <td>60.00</td>\n",
       "      <td>5.00</td>\n",
       "      <td>70.00</td>\n",
       "      <td>7000.00</td>\n",
       "    </tr>\n",
       "    <tr>\n",
       "      <th>75%</th>\n",
       "      <td>280.75</td>\n",
       "      <td>50.00</td>\n",
       "      <td>7.80</td>\n",
       "      <td>8.00</td>\n",
       "      <td>75.00</td>\n",
       "      <td>7.00</td>\n",
       "      <td>72.00</td>\n",
       "      <td>8000.00</td>\n",
       "    </tr>\n",
       "    <tr>\n",
       "      <th>max</th>\n",
       "      <td>374.00</td>\n",
       "      <td>59.00</td>\n",
       "      <td>8.50</td>\n",
       "      <td>9.00</td>\n",
       "      <td>90.00</td>\n",
       "      <td>8.00</td>\n",
       "      <td>86.00</td>\n",
       "      <td>10000.00</td>\n",
       "    </tr>\n",
       "  </tbody>\n",
       "</table>\n",
       "</div>"
      ],
      "text/plain": [
       "       Person ID     Age  Sleep Duration  Quality of Sleep  \\\n",
       "count     374.00  374.00          374.00            374.00   \n",
       "mean      187.50   42.18            7.13              7.31   \n",
       "std       108.11    8.67            0.80              1.20   \n",
       "min         1.00   27.00            5.80              4.00   \n",
       "25%        94.25   35.25            6.40              6.00   \n",
       "50%       187.50   43.00            7.20              7.00   \n",
       "75%       280.75   50.00            7.80              8.00   \n",
       "max       374.00   59.00            8.50              9.00   \n",
       "\n",
       "       Physical Activity Level  Stress Level  Heart Rate  Daily Steps  \n",
       "count                   374.00        374.00      374.00       374.00  \n",
       "mean                     59.17          5.39       70.17      6816.84  \n",
       "std                      20.83          1.77        4.14      1617.92  \n",
       "min                      30.00          3.00       65.00      3000.00  \n",
       "25%                      45.00          4.00       68.00      5600.00  \n",
       "50%                      60.00          5.00       70.00      7000.00  \n",
       "75%                      75.00          7.00       72.00      8000.00  \n",
       "max                      90.00          8.00       86.00     10000.00  "
      ]
     },
     "execution_count": 40,
     "metadata": {},
     "output_type": "execute_result"
    }
   ],
   "source": [
    "dt.describe().round(2)"
   ]
  },
  {
   "cell_type": "code",
   "execution_count": 41,
   "metadata": {},
   "outputs": [
    {
     "data": {
      "text/plain": [
       "Person ID                  0\n",
       "Gender                     0\n",
       "Age                        0\n",
       "Occupation                 0\n",
       "Sleep Duration             0\n",
       "Quality of Sleep           0\n",
       "Physical Activity Level    0\n",
       "Stress Level               0\n",
       "Blood Pressure             0\n",
       "Heart Rate                 0\n",
       "Daily Steps                0\n",
       "Sleep Disorder             0\n",
       "BMI_Category               0\n",
       "dtype: int64"
      ]
     },
     "execution_count": 41,
     "metadata": {},
     "output_type": "execute_result"
    }
   ],
   "source": [
    "dt.isna().sum()"
   ]
  },
  {
   "cell_type": "markdown",
   "metadata": {},
   "source": [
    "There is no NaN values in our dataset"
   ]
  },
  {
   "cell_type": "code",
   "execution_count": 42,
   "metadata": {},
   "outputs": [
    {
     "data": {
      "text/plain": [
       "array(['126/83', '125/80', '140/90', '120/80', '132/87', '130/86',\n",
       "       '117/76', '118/76', '128/85', '131/86', '128/84', '115/75',\n",
       "       '135/88', '129/84', '130/85', '115/78', '119/77', '121/79',\n",
       "       '125/82', '135/90', '122/80', '142/92', '140/95', '139/91',\n",
       "       '118/75'], dtype=object)"
      ]
     },
     "execution_count": 42,
     "metadata": {},
     "output_type": "execute_result"
    }
   ],
   "source": [
    "dt['Blood Pressure'].unique()"
   ]
  },
  {
   "cell_type": "code",
   "execution_count": 43,
   "metadata": {},
   "outputs": [
    {
     "data": {
      "image/png": "[encoded data removed]",
      "text/plain": [
       "<Figure size 432x288 with 1 Axes>"
      ]
     },
     "metadata": {
      "needs_background": "light"
     },
     "output_type": "display_data"
    }
   ],
   "source": [
    "# Check the distribution of 'Age' column\n",
    "df_ga = dt.groupby(['Age', 'Gender']).size().reset_index(name='count')\n",
    "\n",
    "# Select data for male and female\n",
    "df_m = df_ga[df_ga['Gender'] == 'Male']\n",
    "df_f = df_ga[df_ga['Gender'] == 'Female']\n",
    "\n",
    "plt.hist(data=df_m, x='Age', color='red', alpha=0.6, density=True, label='Male')\n",
    "plt.hist(data=df_f, x='Age', color='green', alpha=0.6, density=True, label='Female')\n",
    "plt.title('Age distribution')\n",
    "plt.legend()\n",
    "plt.show()\n"
   ]
  },
  {
   "cell_type": "markdown",
   "metadata": {},
   "source": [
    "Changing the data to different groups\n",
    "\n",
    "For blood pressure:\n",
    "- Ideal blood pressure systolic (upper number) : less than 120 , diastolic (bottom number) : less than 80\n",
    "\n",
    "- Normal systolic (upper number) : in range (120 - 129) , diastolic (bottom number) : in range (80 - 84)\n",
    "\n",
    "- Otherwise, blood pressure is high (which is 1)"
   ]
  },
  {
   "cell_type": "code",
   "execution_count": 44,
   "metadata": {},
   "outputs": [],
   "source": [
    "dt['Blood Pressure']=dt['Blood Pressure'].apply(lambda x:0 if x in ['120/80','126/83','125/80','128/84','129/84','117/76','118/76','115/75','125/82','122/80'] else 1)\n",
    "for i in dt[[\"Age\", \"Heart Rate\", \"Daily Steps\", \"Sleep Duration\", \"Physical Activity Level\"]]: \n",
    "\tdt[i] = dt[i] / dt[i].abs().max() "
   ]
  },
  {
   "cell_type": "markdown",
   "metadata": {},
   "source": [
    "Converting non-numeric data (String or Boolean) into numbers and dropping \"Person ID\" since it is useless."
   ]
  },
  {
   "cell_type": "code",
   "execution_count": 45,
   "metadata": {},
   "outputs": [],
   "source": [
    "from sklearn.preprocessing import LabelEncoder\n",
    "LE=LabelEncoder()\n",
    "dt.drop(['Person ID'], axis=1, inplace=True)\n",
    "categories=['Gender','Occupation','BMI_Category','Sleep Disorder']\n",
    "for label in categories:\n",
    "    dt[label]=LE.fit_transform(dt[label])"
   ]
  },
  {
   "cell_type": "code",
   "execution_count": 46,
   "metadata": {},
   "outputs": [
    {
     "data": {
      "image/png": "[encoded data removed]",
      "text/plain": [
       "<Figure size 864x864 with 2 Axes>"
      ]
     },
     "metadata": {
      "needs_background": "light"
     },
     "output_type": "display_data"
    }
   ],
   "source": [
    "matrix = dt.corr()\n",
    "plt.figure(figsize=(12, 12))\n",
    "sns.heatmap(matrix, annot=True, cmap=\"coolwarm\", fmt=\".2f\", linewidths=.5)\n",
    "plt.title(\"Correlation Heatmap\")\n",
    "plt.show()"
   ]
  },
  {
   "cell_type": "code",
   "execution_count": 50,
   "metadata": {},
   "outputs": [
    {
     "data": {
      "text/html": [
       "<div>\n",
       "<style scoped>\n",
       "    .dataframe tbody tr th:only-of-type {\n",
       "        vertical-align: middle;\n",
       "    }\n",
       "\n",
       "    .dataframe tbody tr th {\n",
       "        vertical-align: top;\n",
       "    }\n",
       "\n",
       "    .dataframe thead th {\n",
       "        text-align: right;\n",
       "    }\n",
       "</style>\n",
       "<table border=\"1\" class=\"dataframe\">\n",
       "  <thead>\n",
       "    <tr style=\"text-align: right;\">\n",
       "      <th></th>\n",
       "      <th>Gender</th>\n",
       "      <th>Age</th>\n",
       "      <th>Occupation</th>\n",
       "      <th>Sleep Duration</th>\n",
       "      <th>Quality of Sleep</th>\n",
       "      <th>Physical Activity Level</th>\n",
       "      <th>Stress Level</th>\n",
       "      <th>Blood Pressure</th>\n",
       "      <th>Heart Rate</th>\n",
       "      <th>Daily Steps</th>\n",
       "      <th>Sleep Disorder</th>\n",
       "      <th>BMI_Category</th>\n",
       "    </tr>\n",
       "  </thead>\n",
       "  <tbody>\n",
       "    <tr>\n",
       "      <th>0</th>\n",
       "      <td>1</td>\n",
       "      <td>0.457627</td>\n",
       "      <td>9</td>\n",
       "      <td>0.717647</td>\n",
       "      <td>6</td>\n",
       "      <td>0.466667</td>\n",
       "      <td>6</td>\n",
       "      <td>0</td>\n",
       "      <td>0.895349</td>\n",
       "      <td>0.42</td>\n",
       "      <td>1</td>\n",
       "      <td>2</td>\n",
       "    </tr>\n",
       "    <tr>\n",
       "      <th>1</th>\n",
       "      <td>1</td>\n",
       "      <td>0.474576</td>\n",
       "      <td>1</td>\n",
       "      <td>0.729412</td>\n",
       "      <td>6</td>\n",
       "      <td>0.666667</td>\n",
       "      <td>8</td>\n",
       "      <td>0</td>\n",
       "      <td>0.872093</td>\n",
       "      <td>1.00</td>\n",
       "      <td>1</td>\n",
       "      <td>0</td>\n",
       "    </tr>\n",
       "    <tr>\n",
       "      <th>2</th>\n",
       "      <td>1</td>\n",
       "      <td>0.474576</td>\n",
       "      <td>1</td>\n",
       "      <td>0.729412</td>\n",
       "      <td>6</td>\n",
       "      <td>0.666667</td>\n",
       "      <td>8</td>\n",
       "      <td>0</td>\n",
       "      <td>0.872093</td>\n",
       "      <td>1.00</td>\n",
       "      <td>1</td>\n",
       "      <td>0</td>\n",
       "    </tr>\n",
       "    <tr>\n",
       "      <th>3</th>\n",
       "      <td>1</td>\n",
       "      <td>0.474576</td>\n",
       "      <td>6</td>\n",
       "      <td>0.694118</td>\n",
       "      <td>4</td>\n",
       "      <td>0.333333</td>\n",
       "      <td>8</td>\n",
       "      <td>1</td>\n",
       "      <td>0.988372</td>\n",
       "      <td>0.30</td>\n",
       "      <td>2</td>\n",
       "      <td>1</td>\n",
       "    </tr>\n",
       "    <tr>\n",
       "      <th>4</th>\n",
       "      <td>1</td>\n",
       "      <td>0.474576</td>\n",
       "      <td>6</td>\n",
       "      <td>0.694118</td>\n",
       "      <td>4</td>\n",
       "      <td>0.333333</td>\n",
       "      <td>8</td>\n",
       "      <td>1</td>\n",
       "      <td>0.988372</td>\n",
       "      <td>0.30</td>\n",
       "      <td>2</td>\n",
       "      <td>1</td>\n",
       "    </tr>\n",
       "  </tbody>\n",
       "</table>\n",
       "</div>"
      ],
      "text/plain": [
       "   Gender       Age  Occupation  Sleep Duration  Quality of Sleep  \\\n",
       "0       1  0.457627           9        0.717647                 6   \n",
       "1       1  0.474576           1        0.729412                 6   \n",
       "2       1  0.474576           1        0.729412                 6   \n",
       "3       1  0.474576           6        0.694118                 4   \n",
       "4       1  0.474576           6        0.694118                 4   \n",
       "\n",
       "   Physical Activity Level  Stress Level  Blood Pressure  Heart Rate  \\\n",
       "0                 0.466667             6               0    0.895349   \n",
       "1                 0.666667             8               0    0.872093   \n",
       "2                 0.666667             8               0    0.872093   \n",
       "3                 0.333333             8               1    0.988372   \n",
       "4                 0.333333             8               1    0.988372   \n",
       "\n",
       "   Daily Steps  Sleep Disorder  BMI_Category  \n",
       "0         0.42               1             2  \n",
       "1         1.00               1             0  \n",
       "2         1.00               1             0  \n",
       "3         0.30               2             1  \n",
       "4         0.30               2             1  "
      ]
     },
     "execution_count": 50,
     "metadata": {},
     "output_type": "execute_result"
    }
   ],
   "source": [
    "dt.head()"
   ]
  },
  {
   "cell_type": "markdown",
   "metadata": {},
   "source": [
    "Splitting our data into 75,25 for training and testing."
   ]
  },
  {
   "cell_type": "code",
   "execution_count": 47,
   "metadata": {},
   "outputs": [],
   "source": [
    "x = dt.drop(columns=['Sleep Disorder'])  # Drop the target feature from the feature matrix\n",
    "y = dt['Sleep Disorder']         #this is choosing the Sleep Disorder feature as the target \n",
    "\n",
    "from sklearn.model_selection import train_test_split\n",
    "x_train,x_test,y_train,y_test=train_test_split(x,y,test_size=.25,random_state=123,shuffle=True)"
   ]
  },
  {
   "cell_type": "markdown",
   "metadata": {},
   "source": [
    "Testing our model and checking it's accuracy."
   ]
  },
  {
   "cell_type": "code",
   "execution_count": 49,
   "metadata": {},
   "outputs": [
    {
     "name": "stdout",
     "output_type": "stream",
     "text": [
      "0.8936170212765957\n",
      "Training score: 87.86\n",
      "Testing score: 89.36\n"
     ]
    }
   ],
   "source": [
    "from sklearn.linear_model import LogisticRegression\n",
    "from sklearn.metrics import accuracy_score\n",
    "model=LogisticRegression(max_iter=1000).fit(x_train,y_train)\n",
    "\n",
    "y_model = model.predict(x_test)\n",
    "print(accuracy_score(y_test, y_model))\n",
    "print(f\"Training score: {round(model.score(x_train,y_train)*100,2)}\")\n",
    "print(f\"Testing score: {round(model.score(x_test,y_test)*100,2)}\")"
   ]
  },
  {
   "cell_type": "code",
   "execution_count": null,
   "metadata": {},
   "outputs": [],
   "source": []
  },
  {
   "cell_type": "markdown",
   "metadata": {},
   "source": [
    "Haven't implemented our input feature yet."
   ]
  }
 ],
 "metadata": {
  "kernelspec": {
   "display_name": "Python 3",
   "language": "python",
   "name": "python3"
  },
  "language_info": {
   "codemirror_mode": {
    "name": "ipython",
    "version": 3
   },
   "file_extension": ".py",
   "mimetype": "text/x-python",
   "name": "python",
   "nbconvert_exporter": "python",
   "pygments_lexer": "ipython3",
   "version": "3.9.12"
  }
 },
 "nbformat": 4,
 "nbformat_minor": 2
}
