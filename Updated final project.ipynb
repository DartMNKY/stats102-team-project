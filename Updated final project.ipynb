{
 "cells": [
  {
   "cell_type": "markdown",
   "metadata": {},
   "source": [
    "# STATS 102 Final Project\n",
    "Team members: Anar, Angarag, Temuulen\n",
    "## Predicting whether a person has sleep disorder or not through logistic regression"
   ]
  },
  {
   "cell_type": "markdown",
   "metadata": {},
   "source": [
    "Data info:\n",
    "- Gender: The gender of the person (Male/Female).\n",
    "- Age: The age of the person in years.\n",
    "- Occupation: The occupation or profession of the person.\n",
    "- Sleep Duration (hours): The number of hours the person sleeps per day.\n",
    "- Quality of Sleep (scale: 1-10): A subjective rating of the quality of sleep, ranging from 1 to 10.\n",
    "- Physical Activity Level (minutes/day): The number of minutes the person engages in physical activity daily.\n",
    "- Stress Level (scale: 1-10): A subjective rating of the stress level experienced by the person, ranging from 1 to 10.\n",
    "- BMI Category: The BMI category of the person (e.g., Underweight, Normal, Overweight).\n",
    "- Heart Rate (bpm): The resting heart rate of the person in beats per minute.\n",
    "- Sleep Disorder: The presence or absence of a sleep disorder in the person (None, Insomnia, Sleep Apnea)."
   ]
  },
  {
   "cell_type": "markdown",
   "metadata": {},
   "source": [
    "Initial library imports"
   ]
  },
  {
   "cell_type": "code",
   "execution_count": 2,
   "metadata": {},
   "outputs": [],
   "source": [
    "import pandas as pd\n",
    "import numpy as np\n",
    "import seaborn as sns \n",
    "import matplotlib.pyplot as plt \n",
    "from sklearn.model_selection import train_test_split"
   ]
  },
  {
   "cell_type": "markdown",
   "metadata": {},
   "source": [
    "Loading our data. \n",
    "\n",
    "In the \"BMI Category\" column, there were \"normal\" bmi and \"normal weight\" bmi. Thus, we will be changing the latter to \"normal\"."
   ]
  },
  {
   "cell_type": "code",
   "execution_count": 3,
   "metadata": {},
   "outputs": [],
   "source": [
    "dt = pd.read_csv('Sleep_health_and_lifestyle_dataset.csv')\n",
    "dt = dt.assign(BMI_Category=lambda x: x['BMI Category'].map({'Obese': \"Obese\", 'Normal': 'Normal', 'Overweight': 'Overweight', 'Normal Weight': 'Normal'}))\n",
    "dt.drop(columns = \"BMI Category\", inplace= True)"
   ]
  },
  {
   "cell_type": "code",
   "execution_count": 37,
   "metadata": {},
   "outputs": [
    {
     "data": {
      "text/plain": [
       "(374, 13)"
      ]
     },
     "execution_count": 37,
     "metadata": {},
     "output_type": "execute_result"
    }
   ],
   "source": [
    "dt.shape"
   ]
  },
  {
   "cell_type": "code",
   "execution_count": 38,
   "metadata": {},
   "outputs": [
    {
     "data": {
      "text/plain": [
       "Index(['Person ID', 'Gender', 'Age', 'Occupation', 'Sleep Duration',\n",
       "       'Quality of Sleep', 'Physical Activity Level', 'Stress Level',\n",
       "       'Blood Pressure', 'Heart Rate', 'Daily Steps', 'Sleep Disorder',\n",
       "       'BMI_Category'],\n",
       "      dtype='object')"
      ]
     },
     "execution_count": 38,
     "metadata": {},
     "output_type": "execute_result"
    }
   ],
   "source": [
    "dt.columns"
   ]
  },
  {
   "cell_type": "code",
   "execution_count": 39,
   "metadata": {},
   "outputs": [
    {
     "data": {
      "text/html": [
       "<div>\n",
       "<style scoped>\n",
       "    .dataframe tbody tr th:only-of-type {\n",
       "        vertical-align: middle;\n",
       "    }\n",
       "\n",
       "    .dataframe tbody tr th {\n",
       "        vertical-align: top;\n",
       "    }\n",
       "\n",
       "    .dataframe thead th {\n",
       "        text-align: right;\n",
       "    }\n",
       "</style>\n",
       "<table border=\"1\" class=\"dataframe\">\n",
       "  <thead>\n",
       "    <tr style=\"text-align: right;\">\n",
       "      <th></th>\n",
       "      <th>Person ID</th>\n",
       "      <th>Gender</th>\n",
       "      <th>Age</th>\n",
       "      <th>Occupation</th>\n",
       "      <th>Sleep Duration</th>\n",
       "      <th>Quality of Sleep</th>\n",
       "      <th>Physical Activity Level</th>\n",
       "      <th>Stress Level</th>\n",
       "      <th>Blood Pressure</th>\n",
       "      <th>Heart Rate</th>\n",
       "      <th>Daily Steps</th>\n",
       "      <th>Sleep Disorder</th>\n",
       "      <th>BMI_Category</th>\n",
       "    </tr>\n",
       "  </thead>\n",
       "  <tbody>\n",
       "    <tr>\n",
       "      <th>0</th>\n",
       "      <td>1</td>\n",
       "      <td>Male</td>\n",
       "      <td>27</td>\n",
       "      <td>Software Engineer</td>\n",
       "      <td>6.1</td>\n",
       "      <td>6</td>\n",
       "      <td>42</td>\n",
       "      <td>6</td>\n",
       "      <td>126/83</td>\n",
       "      <td>77</td>\n",
       "      <td>4200</td>\n",
       "      <td>None</td>\n",
       "      <td>Overweight</td>\n",
       "    </tr>\n",
       "    <tr>\n",
       "      <th>1</th>\n",
       "      <td>2</td>\n",
       "      <td>Male</td>\n",
       "      <td>28</td>\n",
       "      <td>Doctor</td>\n",
       "      <td>6.2</td>\n",
       "      <td>6</td>\n",
       "      <td>60</td>\n",
       "      <td>8</td>\n",
       "      <td>125/80</td>\n",
       "      <td>75</td>\n",
       "      <td>10000</td>\n",
       "      <td>None</td>\n",
       "      <td>Normal</td>\n",
       "    </tr>\n",
       "    <tr>\n",
       "      <th>2</th>\n",
       "      <td>3</td>\n",
       "      <td>Male</td>\n",
       "      <td>28</td>\n",
       "      <td>Doctor</td>\n",
       "      <td>6.2</td>\n",
       "      <td>6</td>\n",
       "      <td>60</td>\n",
       "      <td>8</td>\n",
       "      <td>125/80</td>\n",
       "      <td>75</td>\n",
       "      <td>10000</td>\n",
       "      <td>None</td>\n",
       "      <td>Normal</td>\n",
       "    </tr>\n",
       "    <tr>\n",
       "      <th>3</th>\n",
       "      <td>4</td>\n",
       "      <td>Male</td>\n",
       "      <td>28</td>\n",
       "      <td>Sales Representative</td>\n",
       "      <td>5.9</td>\n",
       "      <td>4</td>\n",
       "      <td>30</td>\n",
       "      <td>8</td>\n",
       "      <td>140/90</td>\n",
       "      <td>85</td>\n",
       "      <td>3000</td>\n",
       "      <td>Sleep Apnea</td>\n",
       "      <td>Obese</td>\n",
       "    </tr>\n",
       "    <tr>\n",
       "      <th>4</th>\n",
       "      <td>5</td>\n",
       "      <td>Male</td>\n",
       "      <td>28</td>\n",
       "      <td>Sales Representative</td>\n",
       "      <td>5.9</td>\n",
       "      <td>4</td>\n",
       "      <td>30</td>\n",
       "      <td>8</td>\n",
       "      <td>140/90</td>\n",
       "      <td>85</td>\n",
       "      <td>3000</td>\n",
       "      <td>Sleep Apnea</td>\n",
       "      <td>Obese</td>\n",
       "    </tr>\n",
       "  </tbody>\n",
       "</table>\n",
       "</div>"
      ],
      "text/plain": [
       "   Person ID Gender  Age            Occupation  Sleep Duration  \\\n",
       "0          1   Male   27     Software Engineer             6.1   \n",
       "1          2   Male   28                Doctor             6.2   \n",
       "2          3   Male   28                Doctor             6.2   \n",
       "3          4   Male   28  Sales Representative             5.9   \n",
       "4          5   Male   28  Sales Representative             5.9   \n",
       "\n",
       "   Quality of Sleep  Physical Activity Level  Stress Level Blood Pressure  \\\n",
       "0                 6                       42             6         126/83   \n",
       "1                 6                       60             8         125/80   \n",
       "2                 6                       60             8         125/80   \n",
       "3                 4                       30             8         140/90   \n",
       "4                 4                       30             8         140/90   \n",
       "\n",
       "   Heart Rate  Daily Steps Sleep Disorder BMI_Category  \n",
       "0          77         4200           None   Overweight  \n",
       "1          75        10000           None       Normal  \n",
       "2          75        10000           None       Normal  \n",
       "3          85         3000    Sleep Apnea        Obese  \n",
       "4          85         3000    Sleep Apnea        Obese  "
      ]
     },
     "execution_count": 39,
     "metadata": {},
     "output_type": "execute_result"
    }
   ],
   "source": [
    "dt.head(5)"
   ]
  },
  {
   "cell_type": "code",
   "execution_count": 40,
   "metadata": {},
   "outputs": [
    {
     "data": {
      "text/html": [
       "<div>\n",
       "<style scoped>\n",
       "    .dataframe tbody tr th:only-of-type {\n",
       "        vertical-align: middle;\n",
       "    }\n",
       "\n",
       "    .dataframe tbody tr th {\n",
       "        vertical-align: top;\n",
       "    }\n",
       "\n",
       "    .dataframe thead th {\n",
       "        text-align: right;\n",
       "    }\n",
       "</style>\n",
       "<table border=\"1\" class=\"dataframe\">\n",
       "  <thead>\n",
       "    <tr style=\"text-align: right;\">\n",
       "      <th></th>\n",
       "      <th>Person ID</th>\n",
       "      <th>Age</th>\n",
       "      <th>Sleep Duration</th>\n",
       "      <th>Quality of Sleep</th>\n",
       "      <th>Physical Activity Level</th>\n",
       "      <th>Stress Level</th>\n",
       "      <th>Heart Rate</th>\n",
       "      <th>Daily Steps</th>\n",
       "    </tr>\n",
       "  </thead>\n",
       "  <tbody>\n",
       "    <tr>\n",
       "      <th>count</th>\n",
       "      <td>374.00</td>\n",
       "      <td>374.00</td>\n",
       "      <td>374.00</td>\n",
       "      <td>374.00</td>\n",
       "      <td>374.00</td>\n",
       "      <td>374.00</td>\n",
       "      <td>374.00</td>\n",
       "      <td>374.00</td>\n",
       "    </tr>\n",
       "    <tr>\n",
       "      <th>mean</th>\n",
       "      <td>187.50</td>\n",
       "      <td>42.18</td>\n",
       "      <td>7.13</td>\n",
       "      <td>7.31</td>\n",
       "      <td>59.17</td>\n",
       "      <td>5.39</td>\n",
       "      <td>70.17</td>\n",
       "      <td>6816.84</td>\n",
       "    </tr>\n",
       "    <tr>\n",
       "      <th>std</th>\n",
       "      <td>108.11</td>\n",
       "      <td>8.67</td>\n",
       "      <td>0.80</td>\n",
       "      <td>1.20</td>\n",
       "      <td>20.83</td>\n",
       "      <td>1.77</td>\n",
       "      <td>4.14</td>\n",
       "      <td>1617.92</td>\n",
       "    </tr>\n",
       "    <tr>\n",
       "      <th>min</th>\n",
       "      <td>1.00</td>\n",
       "      <td>27.00</td>\n",
       "      <td>5.80</td>\n",
       "      <td>4.00</td>\n",
       "      <td>30.00</td>\n",
       "      <td>3.00</td>\n",
       "      <td>65.00</td>\n",
       "      <td>3000.00</td>\n",
       "    </tr>\n",
       "    <tr>\n",
       "      <th>25%</th>\n",
       "      <td>94.25</td>\n",
       "      <td>35.25</td>\n",
       "      <td>6.40</td>\n",
       "      <td>6.00</td>\n",
       "      <td>45.00</td>\n",
       "      <td>4.00</td>\n",
       "      <td>68.00</td>\n",
       "      <td>5600.00</td>\n",
       "    </tr>\n",
       "    <tr>\n",
       "      <th>50%</th>\n",
       "      <td>187.50</td>\n",
       "      <td>43.00</td>\n",
       "      <td>7.20</td>\n",
       "      <td>7.00</td>\n",
       "      <td>60.00</td>\n",
       "      <td>5.00</td>\n",
       "      <td>70.00</td>\n",
       "      <td>7000.00</td>\n",
       "    </tr>\n",
       "    <tr>\n",
       "      <th>75%</th>\n",
       "      <td>280.75</td>\n",
       "      <td>50.00</td>\n",
       "      <td>7.80</td>\n",
       "      <td>8.00</td>\n",
       "      <td>75.00</td>\n",
       "      <td>7.00</td>\n",
       "      <td>72.00</td>\n",
       "      <td>8000.00</td>\n",
       "    </tr>\n",
       "    <tr>\n",
       "      <th>max</th>\n",
       "      <td>374.00</td>\n",
       "      <td>59.00</td>\n",
       "      <td>8.50</td>\n",
       "      <td>9.00</td>\n",
       "      <td>90.00</td>\n",
       "      <td>8.00</td>\n",
       "      <td>86.00</td>\n",
       "      <td>10000.00</td>\n",
       "    </tr>\n",
       "  </tbody>\n",
       "</table>\n",
       "</div>"
      ],
      "text/plain": [
       "       Person ID     Age  Sleep Duration  Quality of Sleep  \\\n",
       "count     374.00  374.00          374.00            374.00   \n",
       "mean      187.50   42.18            7.13              7.31   \n",
       "std       108.11    8.67            0.80              1.20   \n",
       "min         1.00   27.00            5.80              4.00   \n",
       "25%        94.25   35.25            6.40              6.00   \n",
       "50%       187.50   43.00            7.20              7.00   \n",
       "75%       280.75   50.00            7.80              8.00   \n",
       "max       374.00   59.00            8.50              9.00   \n",
       "\n",
       "       Physical Activity Level  Stress Level  Heart Rate  Daily Steps  \n",
       "count                   374.00        374.00      374.00       374.00  \n",
       "mean                     59.17          5.39       70.17      6816.84  \n",
       "std                      20.83          1.77        4.14      1617.92  \n",
       "min                      30.00          3.00       65.00      3000.00  \n",
       "25%                      45.00          4.00       68.00      5600.00  \n",
       "50%                      60.00          5.00       70.00      7000.00  \n",
       "75%                      75.00          7.00       72.00      8000.00  \n",
       "max                      90.00          8.00       86.00     10000.00  "
      ]
     },
     "execution_count": 40,
     "metadata": {},
     "output_type": "execute_result"
    }
   ],
   "source": [
    "dt.describe().round(2)"
   ]
  },
  {
   "cell_type": "code",
   "execution_count": 41,
   "metadata": {},
   "outputs": [
    {
     "data": {
      "text/plain": [
       "Person ID                  0\n",
       "Gender                     0\n",
       "Age                        0\n",
       "Occupation                 0\n",
       "Sleep Duration             0\n",
       "Quality of Sleep           0\n",
       "Physical Activity Level    0\n",
       "Stress Level               0\n",
       "Blood Pressure             0\n",
       "Heart Rate                 0\n",
       "Daily Steps                0\n",
       "Sleep Disorder             0\n",
       "BMI_Category               0\n",
       "dtype: int64"
      ]
     },
     "execution_count": 41,
     "metadata": {},
     "output_type": "execute_result"
    }
   ],
   "source": [
    "dt.isna().sum()"
   ]
  },
  {
   "cell_type": "markdown",
   "metadata": {},
   "source": [
    "There is no NaN values in our dataset"
   ]
  },
  {
   "cell_type": "code",
   "execution_count": 10,
   "metadata": {},
   "outputs": [
    {
     "data": {
      "text/plain": [
       "<BarContainer object of 3 artists>"
      ]
     },
     "execution_count": 10,
     "metadata": {},
     "output_type": "execute_result"
    },
    {
     "data": {
      "image/png": "[encoded data removed]",
      "text/plain": [
       "<Figure size 432x288 with 1 Axes>"
      ]
     },
     "metadata": {
      "needs_background": "light"
     },
     "output_type": "display_data"
    }
   ],
   "source": [
    "plt.barh(dt[\"Sleep Disorder\"].unique(), dt[\"Sleep Disorder\"].value_counts())"
   ]
  },
  {
   "cell_type": "code",
   "execution_count": 12,
   "metadata": {},
   "outputs": [
    {
     "data": {
      "text/plain": [
       "Sleep Disorder  Gender\n",
       "Insomnia        Male       41\n",
       "                Female     36\n",
       "None            Male      137\n",
       "                Female     82\n",
       "Sleep Apnea     Female     67\n",
       "                Male       11\n",
       "Name: Gender, dtype: int64"
      ]
     },
     "execution_count": 12,
     "metadata": {},
     "output_type": "execute_result"
    }
   ],
   "source": [
    "dt.groupby('Sleep Disorder')['Gender'].value_counts()"
   ]
  },
  {
   "cell_type": "code",
   "execution_count": 44,
   "metadata": {},
   "outputs": [
    {
     "data": {
      "image/png": "[encoded data removed]",
      "text/plain": [
       "<Figure size 432x288 with 1 Axes>"
      ]
     },
     "metadata": {
      "needs_background": "light"
     },
     "output_type": "display_data"
    }
   ],
   "source": [
    "# Check the distribution of 'Age' column\n",
    "df_ga = dt.groupby(['Age', 'Gender']).size().reset_index(name='count')\n",
    "\n",
    "# Select data for male and female\n",
    "df_m = df_ga[df_ga['Gender'] == 'Male']\n",
    "df_f = df_ga[df_ga['Gender'] == 'Female']\n",
    "\n",
    "plt.hist(data=df_m, x='Age', color='red', alpha=0.6, density=True, label='Male')\n",
    "plt.hist(data=df_f, x='Age', color='green', alpha=0.6, density=True, label='Female')\n",
    "plt.title('Age distribution')\n",
    "plt.legend()\n",
    "plt.show()\n"
   ]
  },
  {
   "cell_type": "markdown",
   "metadata": {},
   "source": [
    "Changing the data to different groups\n",
    "\n",
    "For blood pressure:\n",
    "- Ideal blood pressure systolic (upper number) : less than 120 , diastolic (bottom number) : less than 80\n",
    "\n",
    "- Normal systolic (upper number) : in range (120 - 129) , diastolic (bottom number) : in range (80 - 84)\n",
    "\n",
    "- Otherwise, blood pressure is high (which is 1)"
   ]
  },
  {
   "cell_type": "code",
   "execution_count": 45,
   "metadata": {},
   "outputs": [],
   "source": [
    "dt['Blood Pressure']=dt['Blood Pressure'].apply(lambda x:0 if x in ['120/80','126/83','125/80','128/84','129/84','117/76','118/76','115/75','125/82','122/80'] else 1)"
   ]
  },
  {
   "cell_type": "markdown",
   "metadata": {},
   "source": [
    "Converting non-numeric data (String or Boolean) into numbers and dropping \"Person ID\" since it is useless."
   ]
  },
  {
   "cell_type": "code",
   "execution_count": 46,
   "metadata": {},
   "outputs": [],
   "source": [
    "from sklearn.preprocessing import LabelEncoder\n",
    "LE=LabelEncoder()\n",
    "dt.drop(['Person ID','Occupation'], axis=1, inplace=True)\n",
    "categories=['Gender','BMI_Category','Sleep Disorder']\n",
    "for label in categories:\n",
    "    dt[label]=LE.fit_transform(dt[label])"
   ]
  },
  {
   "cell_type": "code",
   "execution_count": 47,
   "metadata": {},
   "outputs": [
    {
     "data": {
      "image/png": "[encoded data removed]",
      "text/plain": [
       "<Figure size 864x864 with 2 Axes>"
      ]
     },
     "metadata": {
      "needs_background": "light"
     },
     "output_type": "display_data"
    }
   ],
   "source": [
    "matrix = dt.corr()\n",
    "plt.figure(figsize=(12, 12))\n",
    "sns.heatmap(matrix, annot=True, cmap=\"coolwarm\", fmt=\".2f\", linewidths=.5)\n",
    "plt.title(\"Correlation Heatmap\")\n",
    "plt.show()"
   ]
  },
  {
   "cell_type": "code",
   "execution_count": 48,
   "metadata": {},
   "outputs": [],
   "source": [
    "x = dt.drop(columns=['Sleep Disorder'])  # Drop the target feature from the feature matrix\n",
    "y = dt['Sleep Disorder']         #this is choosing the Sleep Disorder feature as the target "
   ]
  },
  {
   "cell_type": "markdown",
   "metadata": {},
   "source": [
    "Splitting our data into 75,25 for training and testing."
   ]
  },
  {
   "cell_type": "code",
   "execution_count": 49,
   "metadata": {},
   "outputs": [],
   "source": [
    "from sklearn.model_selection import train_test_split\n",
    "x_train,x_test,y_train,y_test=train_test_split(x,y,test_size=.25,random_state=123,shuffle=True)"
   ]
  },
  {
   "cell_type": "markdown",
   "metadata": {},
   "source": [
    "Testing our model and checking it's accuracy."
   ]
  },
  {
   "cell_type": "code",
   "execution_count": 50,
   "metadata": {},
   "outputs": [
    {
     "name": "stdout",
     "output_type": "stream",
     "text": [
      "0.9148936170212766\n",
      "Testing score: 91.49\n"
     ]
    }
   ],
   "source": [
    "from sklearn.linear_model import LogisticRegression\n",
    "from sklearn.metrics import accuracy_score\n",
    "model=LogisticRegression(max_iter=10000).fit(x_train,y_train)\n",
    "\n",
    "y_model = model.predict(x_test)\n",
    "print(accuracy_score(y_test, y_model))\n",
    "print(f\"Testing score: {round(model.score(x_test,y_test)*100,2)}\")"
   ]
  },
  {
   "cell_type": "markdown",
   "metadata": {},
   "source": [
    "## Predicting user's condition:"
   ]
  },
  {
   "cell_type": "code",
   "execution_count": 51,
   "metadata": {},
   "outputs": [],
   "source": [
    "def binput(prompt):\n",
    "    while True:\n",
    "        try:\n",
    "            output = int(input(prompt))\n",
    "        except ValueError:\n",
    "            continue\n",
    "        else:\n",
    "            break\n",
    "    return output\n",
    "\n",
    "i = []\n",
    "\n",
    "\n",
    "gen = input(\"Gender (m/f): \")\n",
    "if gen == \"m\":\n",
    "    i.append(1)\n",
    "else:\n",
    "    i.append(0)\n",
    "\n",
    "i.append(binput(\"Enter your age:\"))\n",
    "i.append(binput(\"Enter sleep duration (in hours):\"))\n",
    "i.append(binput(\"Enter quality of sleep (1-10):\"))\n",
    "i.append(binput(\"Enter physical activity level (1-100):\"))\n",
    "i.append(binput(\"Stress level (1-10):\"))\n",
    "i.append(binput(\"Blood pressure (1 = high | 0 = normal/low):\"))\n",
    "i.append(binput(\"Heart rate:\"))\n",
    "i.append(binput(\"Daily steps:\"))\n",
    "weight = binput(\"Weight in kg:\")\n",
    "height = binput(\"Height in cm:\")\n",
    "bmi = weight / ((height/100)**2)\n",
    "# print(\"Your BMI is:\",bmi)\n",
    "if bmi > 30:\n",
    "    i.append(1)\n",
    "elif bmi > 25:\n",
    "    i.append(2)\n",
    "else:\n",
    "    i.append(0)\n",
    "# i = [1,18,6,8,50,3,0,70,5500,18.51851851851852]\n",
    "i = pd.DataFrame([i])\n",
    "\n",
    "disorder = model.predict(i)\n",
    "if disorder == 1:\n",
    "    print(\"You likely have sleep apnea.\")\n",
    "elif disorder == 0:\n",
    "    print(\"You likely have insomnia.\")\n",
    "else:\n",
    "    print(\"You likely don't have a sleep disorder.\")\n"
   ]
  }
 ],
 "metadata": {
  "kernelspec": {
   "display_name": "Python 3",
   "language": "python",
   "name": "python3"
  },
  "language_info": {
   "codemirror_mode": {
    "name": "ipython",
    "version": 3
   },
   "file_extension": ".py",
   "mimetype": "text/x-python",
   "name": "python",
   "nbconvert_exporter": "python",
   "pygments_lexer": "ipython3",
   "version": "3.9.12"
  }
 },
 "nbformat": 4,
 "nbformat_minor": 2
}
